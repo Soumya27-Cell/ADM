{
  "nbformat": 4,
  "nbformat_minor": 0,
  "metadata": {
    "colab": {
      "provenance": [],
      "authorship_tag": "ABX9TyOQ6OrNEdxFq+B0lQYriAKO",
      "include_colab_link": true
    },
    "kernelspec": {
      "name": "python3",
      "display_name": "Python 3"
    },
    "language_info": {
      "name": "python"
    }
  },
  "cells": [
    {
      "cell_type": "markdown",
      "metadata": {
        "id": "view-in-github",
        "colab_type": "text"
      },
      "source": [
        "<a href=\"https://colab.research.google.com/github/Soumya27-Cell/ADM/blob/main/ADM%201.ipynb\" target=\"_parent\"><img src=\"https://colab.research.google.com/assets/colab-badge.svg\" alt=\"Open In Colab\"/></a>"
      ]
    },
    {
      "cell_type": "code",
      "source": [
        "import pandas as pd\n",
        "df=pd.read_csv('/content/diabetes.csv')\n",
        "print(df)"
      ],
      "metadata": {
        "colab": {
          "base_uri": "https://localhost:8080/"
        },
        "id": "VLyKs0P3gIMX",
        "outputId": "93300ceb-1c04-4bbb-affb-34a58c96d048"
      },
      "execution_count": null,
      "outputs": [
        {
          "output_type": "stream",
          "name": "stdout",
          "text": [
            "     Pregnancies  Glucose  BloodPressure  SkinThickness  Insulin   BMI  \\\n",
            "0              6      148             72             35        0  33.6   \n",
            "1              1       85             66             29        0  26.6   \n",
            "2              8      183             64              0        0  23.3   \n",
            "3              1       89             66             23       94  28.1   \n",
            "4              0      137             40             35      168  43.1   \n",
            "..           ...      ...            ...            ...      ...   ...   \n",
            "763           10      101             76             48      180  32.9   \n",
            "764            2      122             70             27        0  36.8   \n",
            "765            5      121             72             23      112  26.2   \n",
            "766            1      126             60              0        0  30.1   \n",
            "767            1       93             70             31        0  30.4   \n",
            "\n",
            "     DiabetesPedigreeFunction  Age  Outcome  \n",
            "0                       0.627   50        1  \n",
            "1                       0.351   31        0  \n",
            "2                       0.672   32        1  \n",
            "3                       0.167   21        0  \n",
            "4                       2.288   33        1  \n",
            "..                        ...  ...      ...  \n",
            "763                     0.171   63        0  \n",
            "764                     0.340   27        0  \n",
            "765                     0.245   30        0  \n",
            "766                     0.349   47        1  \n",
            "767                     0.315   23        0  \n",
            "\n",
            "[768 rows x 9 columns]\n"
          ]
        }
      ]
    },
    {
      "cell_type": "code",
      "source": [
        "column_means = df.mean()\n",
        "print(column_means)"
      ],
      "metadata": {
        "colab": {
          "base_uri": "https://localhost:8080/"
        },
        "id": "kvJRD_Rwnj6D",
        "outputId": "2a17c6d6-d138-4a08-81e8-c3b6f2da9a42"
      },
      "execution_count": null,
      "outputs": [
        {
          "output_type": "stream",
          "name": "stdout",
          "text": [
            "Pregnancies                   3.845052\n",
            "Glucose                     120.894531\n",
            "BloodPressure                69.105469\n",
            "SkinThickness                20.536458\n",
            "Insulin                      79.799479\n",
            "BMI                          31.992578\n",
            "DiabetesPedigreeFunction      0.471876\n",
            "Age                          33.240885\n",
            "Outcome                       0.348958\n",
            "dtype: float64\n"
          ]
        }
      ]
    },
    {
      "cell_type": "code",
      "source": [
        "column_modes = df.mode()\n",
        "print(column_modes)"
      ],
      "metadata": {
        "colab": {
          "base_uri": "https://localhost:8080/"
        },
        "id": "IG5vx8lZoFLD",
        "outputId": "92e4751e-af4f-4ba3-fdaf-d40bb3ed9a83"
      },
      "execution_count": null,
      "outputs": [
        {
          "output_type": "stream",
          "name": "stdout",
          "text": [
            "   Pregnancies  Glucose  BloodPressure  SkinThickness  Insulin   BMI  \\\n",
            "0          1.0       99           70.0            0.0      0.0  32.0   \n",
            "1          NaN      100            NaN            NaN      NaN   NaN   \n",
            "\n",
            "   DiabetesPedigreeFunction   Age  Outcome  \n",
            "0                     0.254  22.0      0.0  \n",
            "1                     0.258   NaN      NaN  \n"
          ]
        }
      ]
    },
    {
      "cell_type": "code",
      "source": [
        "column_medians = df.median()\n",
        "print(column_medians)"
      ],
      "metadata": {
        "colab": {
          "base_uri": "https://localhost:8080/"
        },
        "id": "pvlQNMWuomdm",
        "outputId": "560504e4-4fe5-43cb-f87f-0c3bb5621e13"
      },
      "execution_count": null,
      "outputs": [
        {
          "output_type": "stream",
          "name": "stdout",
          "text": [
            "Pregnancies                   3.0000\n",
            "Glucose                     117.0000\n",
            "BloodPressure                72.0000\n",
            "SkinThickness                23.0000\n",
            "Insulin                      30.5000\n",
            "BMI                          32.0000\n",
            "DiabetesPedigreeFunction      0.3725\n",
            "Age                          29.0000\n",
            "Outcome                       0.0000\n",
            "dtype: float64\n"
          ]
        }
      ]
    },
    {
      "source": [
        "\n",
        "from sklearn.preprocessing import MinMaxScaler, StandardScaler\n",
        "\n",
        "# Load the dataset\n",
        "df = pd.read_csv('/content/diabetes.csv')\n",
        "\n",
        "# Select the features to scale (excluding the target variable if any)\n",
        "features_to_scale = df.columns  # You might need to adjust this if you have a target column\n",
        "\n",
        "# 1. Min-Max Normalization\n",
        "# Create a MinMaxScaler object\n",
        "scaler_minmax = MinMaxScaler()\n",
        "\n",
        "# Fit the scaler to the data and transform it\n",
        "df_minmax = pd.DataFrame(scaler_minmax.fit_transform(df[features_to_scale]), columns=features_to_scale)\n",
        "\n",
        "# Print the normalized data\n",
        "print(\"Min-Max Normalized Data:\\n\", df_minmax)\n",
        "\n",
        "\n",
        "# 2. Standardization\n",
        "# Create a StandardScaler object\n",
        "scaler_standard = StandardScaler()\n",
        "\n",
        "# Fit the scaler to the data and transform it\n",
        "df_standard = pd.DataFrame(scaler_standard.fit_transform(df[features_to_scale]), columns=features_to_scale)\n",
        "\n",
        "# Print the standardized data\n",
        "print(\"\\nStandardized Data:\\n\", df_standard)"
      ],
      "cell_type": "code",
      "metadata": {
        "colab": {
          "base_uri": "https://localhost:8080/"
        },
        "id": "PZsT1oU_o9Xv",
        "outputId": "1a769c03-1bdc-4c1f-c75e-ca7c3a5279a5"
      },
      "execution_count": null,
      "outputs": [
        {
          "output_type": "stream",
          "name": "stdout",
          "text": [
            "Min-Max Normalized Data:\n",
            "      Pregnancies   Glucose  BloodPressure  SkinThickness   Insulin       BMI  \\\n",
            "0       0.352941  0.743719       0.590164       0.353535  0.000000  0.500745   \n",
            "1       0.058824  0.427136       0.540984       0.292929  0.000000  0.396423   \n",
            "2       0.470588  0.919598       0.524590       0.000000  0.000000  0.347243   \n",
            "3       0.058824  0.447236       0.540984       0.232323  0.111111  0.418778   \n",
            "4       0.000000  0.688442       0.327869       0.353535  0.198582  0.642325   \n",
            "..           ...       ...            ...            ...       ...       ...   \n",
            "763     0.588235  0.507538       0.622951       0.484848  0.212766  0.490313   \n",
            "764     0.117647  0.613065       0.573770       0.272727  0.000000  0.548435   \n",
            "765     0.294118  0.608040       0.590164       0.232323  0.132388  0.390462   \n",
            "766     0.058824  0.633166       0.491803       0.000000  0.000000  0.448584   \n",
            "767     0.058824  0.467337       0.573770       0.313131  0.000000  0.453055   \n",
            "\n",
            "     DiabetesPedigreeFunction       Age  Outcome  \n",
            "0                    0.234415  0.483333      1.0  \n",
            "1                    0.116567  0.166667      0.0  \n",
            "2                    0.253629  0.183333      1.0  \n",
            "3                    0.038002  0.000000      0.0  \n",
            "4                    0.943638  0.200000      1.0  \n",
            "..                        ...       ...      ...  \n",
            "763                  0.039710  0.700000      0.0  \n",
            "764                  0.111870  0.100000      0.0  \n",
            "765                  0.071307  0.150000      0.0  \n",
            "766                  0.115713  0.433333      1.0  \n",
            "767                  0.101196  0.033333      0.0  \n",
            "\n",
            "[768 rows x 9 columns]\n",
            "\n",
            "Standardized Data:\n",
            "      Pregnancies   Glucose  BloodPressure  SkinThickness   Insulin       BMI  \\\n",
            "0       0.639947  0.848324       0.149641       0.907270 -0.692891  0.204013   \n",
            "1      -0.844885 -1.123396      -0.160546       0.530902 -0.692891 -0.684422   \n",
            "2       1.233880  1.943724      -0.263941      -1.288212 -0.692891 -1.103255   \n",
            "3      -0.844885 -0.998208      -0.160546       0.154533  0.123302 -0.494043   \n",
            "4      -1.141852  0.504055      -1.504687       0.907270  0.765836  1.409746   \n",
            "..           ...       ...            ...            ...       ...       ...   \n",
            "763     1.827813 -0.622642       0.356432       1.722735  0.870031  0.115169   \n",
            "764    -0.547919  0.034598       0.046245       0.405445 -0.692891  0.610154   \n",
            "765     0.342981  0.003301       0.149641       0.154533  0.279594 -0.735190   \n",
            "766    -0.844885  0.159787      -0.470732      -1.288212 -0.692891 -0.240205   \n",
            "767    -0.844885 -0.873019       0.046245       0.656358 -0.692891 -0.202129   \n",
            "\n",
            "     DiabetesPedigreeFunction       Age   Outcome  \n",
            "0                    0.468492  1.425995  1.365896  \n",
            "1                   -0.365061 -0.190672 -0.732120  \n",
            "2                    0.604397 -0.105584  1.365896  \n",
            "3                   -0.920763 -1.041549 -0.732120  \n",
            "4                    5.484909 -0.020496  1.365896  \n",
            "..                        ...       ...       ...  \n",
            "763                 -0.908682  2.532136 -0.732120  \n",
            "764                 -0.398282 -0.531023 -0.732120  \n",
            "765                 -0.685193 -0.275760 -0.732120  \n",
            "766                 -0.371101  1.170732  1.365896  \n",
            "767                 -0.473785 -0.871374 -0.732120  \n",
            "\n",
            "[768 rows x 9 columns]\n"
          ]
        }
      ]
    }
  ]
}